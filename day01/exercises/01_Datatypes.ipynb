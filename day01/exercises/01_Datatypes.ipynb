{
 "cells": [
  {
   "cell_type": "markdown",
   "metadata": {},
   "source": [
    "# Datatypes exercises"
   ]
  },
  {
   "cell_type": "markdown",
   "metadata": {},
   "source": [
    "## Exercise 1"
   ]
  },
  {
   "cell_type": "markdown",
   "metadata": {},
   "source": [
    "Write the following mathematical formula in Python:\n",
    "\n",
    "\\begin{align}\n",
    " result = 6a^3 - \\frac{8b^2 }{4c} + 11\n",
    "\\end{align}\n",
    "\n",
    "```python\n",
    "a = 2\n",
    "b = 3\n",
    "c = 2\n",
    "```\n",
    "\n",
    "> write your formula as \n",
    "```python\n",
    "result = \n",
    "```\n",
    "\n",
    "It must verify\n",
    "```python\n",
    ">>> assert result == 50"
   ]
  },
  {
   "cell_type": "code",
   "execution_count": 21,
   "metadata": {},
   "outputs": [
    {
     "data": {
      "text/plain": [
       "0.1"
      ]
     },
     "execution_count": 21,
     "metadata": {},
     "output_type": "execute_result"
    }
   ],
   "source": [
    "a = 2\n",
    "b = 3\n",
    "c = 2\n",
    "result = 6*a**3 - (8*b**2)/(4*c) + 11\n",
    "assert result == 50\n"
   ]
  },
  {
   "cell_type": "markdown",
   "metadata": {},
   "source": [
    "## Exercise 2"
   ]
  },
  {
   "cell_type": "markdown",
   "metadata": {},
   "source": [
    "Explain why the folowing assertion fails"
   ]
  },
  {
   "cell_type": "code",
   "execution_count": 18,
   "metadata": {},
   "outputs": [
    {
     "ename": "AssertionError",
     "evalue": "",
     "output_type": "error",
     "traceback": [
      "\u001b[1;31m---------------------------------------------------------------------------\u001b[0m",
      "\u001b[1;31mAssertionError\u001b[0m                            Traceback (most recent call last)",
      "Input \u001b[1;32mIn [18]\u001b[0m, in \u001b[0;36m<cell line: 1>\u001b[1;34m()\u001b[0m\n\u001b[1;32m----> 1\u001b[0m \u001b[38;5;28;01massert\u001b[39;00m (\u001b[38;5;241m0.1\u001b[39m \u001b[38;5;241m+\u001b[39m \u001b[38;5;241m0.2\u001b[39m \u001b[38;5;241m==\u001b[39m \u001b[38;5;241m0.3\u001b[39m)\n",
      "\u001b[1;31mAssertionError\u001b[0m: "
     ]
    }
   ],
   "source": [
    "assert (0.1 + 0.2 == 0.3) # will cause assertion error\n",
    "\n",
    "#Due to decimal representation error,machines cant represent accurately decimals since they use binary floating-point"
   ]
  },
  {
   "cell_type": "markdown",
   "metadata": {},
   "source": [
    "## Exercise 3"
   ]
  },
  {
   "cell_type": "markdown",
   "metadata": {},
   "source": [
    "Write a Python program to sum all the items in a list"
   ]
  },
  {
   "cell_type": "code",
   "execution_count": 40,
   "metadata": {},
   "outputs": [],
   "source": [
    "def sum_list(l):\n",
    "    r = 0\n",
    "    for i in l:\n",
    "        r += i\n",
    "    return r\n",
    "\n",
    "assert sum_list([10, 20, -1]) == 29"
   ]
  },
  {
   "cell_type": "markdown",
   "metadata": {},
   "source": [
    "## Exercise 4"
   ]
  },
  {
   "cell_type": "markdown",
   "metadata": {},
   "source": [
    "Write a program that asks how long it took to run 10 km today. The program continues to ask how long (in minutes) it took for additional runs, until the user enters q. At that point, the program exits — but only after calculating and displaying the average time that the 10 km run took.  \n",
    "\n",
    "\n",
    "Example:\n",
    "```\n",
    "Enter 10 km run time: 15\n",
    "Enter 10 km run time: 20\n",
    "Enter 10 km run time: 10\n",
    "Enter 10 km run time: q\n",
    "\n",
    "Average of 15.0, over 3 runs\n",
    "```"
   ]
  },
  {
   "cell_type": "code",
   "execution_count": 48,
   "metadata": {},
   "outputs": [
    {
     "name": "stdout",
     "output_type": "stream",
     "text": [
      "Enter 10 km run time: \n",
      "5\n",
      "Enter 10 km run time: \n",
      "6\n",
      "Enter 10 km run time: \n",
      "q\n",
      "Average of  5.5 over  2 runs\n"
     ]
    }
   ],
   "source": [
    "def Av_rt():\n",
    "    runs = 0\n",
    "    sm = 0\n",
    "    while True :\n",
    "        print(\"Enter 10 km run time: \")\n",
    "        x = input()\n",
    "        if str(x) == \"q\":\n",
    "            break\n",
    "        runs += 1\n",
    "        sm += int(x)\n",
    "    print(\"Average of \", sm/runs, \",over \", runs, 'runs')\n",
    "\n",
    "Av_rt()\n",
    "        "
   ]
  },
  {
   "cell_type": "markdown",
   "metadata": {},
   "source": [
    "## Exercise 5"
   ]
  },
  {
   "cell_type": "markdown",
   "metadata": {},
   "source": [
    "Write a function that takes a string and returns the sorted string."
   ]
  },
  {
   "cell_type": "code",
   "execution_count": 52,
   "metadata": {},
   "outputs": [],
   "source": [
    "def sort_string(s):\n",
    "    string = ''.join(sorted(s))\n",
    "    return string\n",
    "\n",
    "assert sort_string(\"cab\") == \"abc\""
   ]
  },
  {
   "cell_type": "markdown",
   "metadata": {},
   "source": [
    "## Exercise 6"
   ]
  },
  {
   "cell_type": "markdown",
   "metadata": {},
   "source": [
    "Write a function that take a string of multiple words and returns the position of the word with most repeated letters"
   ]
  },
  {
   "cell_type": "code",
   "execution_count": 69,
   "metadata": {},
   "outputs": [
    {
     "name": "stdout",
     "output_type": "stream",
     "text": [
      "3\n"
     ]
    }
   ],
   "source": [
    "def wwmrl(s):\n",
    "    mx = 0\n",
    "    diff = 0\n",
    "    for i in s:\n",
    "        diff = len(i) - len(set(i)) +1\n",
    "        if (diff > mx ):\n",
    "            mx = diff\n",
    "    print(mx)\n",
    "    \n",
    "    return mx \n",
    "                              \n",
    "assert wwmrl(['this', 'is', 'an', 'elementary', 'test', 'example']) == 3"
   ]
  },
  {
   "cell_type": "markdown",
   "metadata": {},
   "source": [
    "## Exercise 7"
   ]
  },
  {
   "cell_type": "markdown",
   "metadata": {},
   "source": [
    "1. Create a tuple\n",
    "2. Unpack the tuple in multiple variables"
   ]
  },
  {
   "cell_type": "code",
   "execution_count": 70,
   "metadata": {},
   "outputs": [
    {
     "name": "stdout",
     "output_type": "stream",
     "text": [
      "this\n",
      "is\n",
      "1\n",
      "tuple\n"
     ]
    }
   ],
   "source": [
    "tpl = ('this','is',1,'tuple')\n",
    "\n",
    "t1, t2, t3, t4= tpl \n",
    "print(t1)\n",
    "print(t2)\n",
    "print(t3)\n",
    "print(t4)"
   ]
  },
  {
   "cell_type": "markdown",
   "metadata": {},
   "source": [
    "## Exercise 8"
   ]
  },
  {
   "cell_type": "markdown",
   "metadata": {},
   "source": [
    "Write a Python program to sort a tuple by its float element.  \n",
    "Sample data: `[('item1', '12.20'), ('item2', '15.10'), ('item3', '24.5')]`  \n",
    "Expected Output: `[('item3', '24.5'), ('item2', '15.10'), ('item1', '12.20')]`"
   ]
  },
  {
   "cell_type": "code",
   "execution_count": 81,
   "metadata": {},
   "outputs": [
    {
     "data": {
      "text/plain": [
       "[('item3', '24.5'), ('item2', '15.10'), ('item1', '12.20')]"
      ]
     },
     "execution_count": 81,
     "metadata": {},
     "output_type": "execute_result"
    }
   ],
   "source": [
    "def srttpl_byfl(t):\n",
    "    return sorted(t,key = lambda x: float(x[1]), reverse = 1)\n",
    "    \n",
    "srttpl_byfl([('item1', '12.20'), ('item2', '15.10'), ('item3', '24.5')])"
   ]
  },
  {
   "cell_type": "markdown",
   "metadata": {},
   "source": [
    "\n",
    "## Exercise 9"
   ]
  },
  {
   "cell_type": "markdown",
   "metadata": {},
   "source": [
    "Write a Python script to concatenate dictionaries to create a new one."
   ]
  },
  {
   "cell_type": "code",
   "execution_count": 100,
   "metadata": {},
   "outputs": [
    {
     "name": "stdout",
     "output_type": "stream",
     "text": [
      "{'a': 10, 2: 20, 3: 30, 4: 40, 5: 50, 6: 60}\n"
     ]
    }
   ],
   "source": [
    "\"\"\"Sample Dictionary\"\"\"\n",
    "dic1={'a':10, 2:20}\n",
    "dic2={3:30, 4:40}\n",
    "dic3={5:50,6:60}\n",
    "\"\"\"\"Expected Result : {1: 10, 2: 20, 3: 30, 4: 40, 5: 50, 6: 60}\"\"\"\n",
    "def conc(dic1,dic2,dic3):\n",
    "    d={}\n",
    "    for item in (dic1,dic2,dic3):\n",
    "        d.update(item)\n",
    "    return d\n",
    "print(conc(dic1,dic2,dic3))"
   ]
  },
  {
   "cell_type": "markdown",
   "metadata": {},
   "source": [
    "## Exercise 10"
   ]
  },
  {
   "cell_type": "markdown",
   "metadata": {},
   "source": [
    "Write a Python program to combine two dictionary adding values for common keys."
   ]
  },
  {
   "cell_type": "code",
   "execution_count": 111,
   "metadata": {},
   "outputs": [
    {
     "name": "stdout",
     "output_type": "stream",
     "text": [
      "{'a': 400, 'b': 407, 'c': 300, 'd': 400}\n"
     ]
    }
   ],
   "source": [
    "d1 = {'a': 100, 'b': 202, 'c':300}\n",
    "d2 = {'a': 300, 'b': 205, 'd':400}\n",
    "\"\"\"\"Sample output: {'a': 400, 'b': 400, 'd': 400, 'c': 300}\"\"\"\n",
    "\n",
    "def add(d1,d2):\n",
    "    for key in d2:\n",
    "        if key in d1:\n",
    "            d1[key] += d2[key]\n",
    "        else:\n",
    "            d1.update({key: d2[key]})\n",
    "    return d1\n",
    "\n",
    "print(add(d1,d2))\n"
   ]
  },
  {
   "cell_type": "markdown",
   "metadata": {},
   "source": [
    "## Exercise 11"
   ]
  },
  {
   "cell_type": "markdown",
   "metadata": {},
   "source": [
    "Write a Python program to extract values from a given dictionaries and create a list of lists from those values.\n",
    "\n",
    "Original Dictionary:  \n",
    "`[{'student_id': 1, 'name': 'Jean Castro', 'class': 'V'}, {'student_id': 2, 'name': 'Lula Powell', 'class': 'V'}, {'student_id': 3, 'name': 'Brian Howell', 'class': 'VI'}, {'student_id': 4, 'name': 'Lynne Foster', 'class': 'VI'}, {'student_id': 5, 'name': 'Zachary Simon', 'class': 'VII'}]`  \n",
    "Output:  \n",
    "`[[1, 'Jean Castro', 'V'], [2, 'Lula Powell', 'V'], [3, 'Brian Howell', 'VI'], [4, 'Lynne Foster', 'VI'], [5, 'Zachary Simon', 'VII']]`"
   ]
  },
  {
   "cell_type": "code",
   "execution_count": 126,
   "metadata": {},
   "outputs": [
    {
     "name": "stdout",
     "output_type": "stream",
     "text": [
      "[2, 'Lula Powell', 'V']\n",
      "[[1, 'Jean Castro', 'V'], [2, 'Lula Powell', 'V'], [3, 'Brian Howell', 'VI'], [4, 'Lynne Foster', 'VI'], [5, 'Zachary Simon', 'VII']]\n"
     ]
    }
   ],
   "source": [
    "data = [{'student_id': 1, 'name': 'Jean Castro', 'class': 'V'}, \n",
    "        {'student_id': 2, 'name': 'Lula Powell', 'class': 'V'}, \n",
    "        {'student_id': 3, 'name': 'Brian Howell', 'class': 'VI'}, \n",
    "        {'student_id': 4, 'name': 'Lynne Foster', 'class': 'VI'}, \n",
    "        {'student_id': 5, 'name': 'Zachary Simon', 'class': 'VII'}]\n",
    "print(list(data[1].values()))\n",
    "def dic_tols(d):\n",
    "    ls = []\n",
    "    for i in range(len(d)):\n",
    "        ls.append(list(d[i].values()))\n",
    "    return ls \n",
    "\n",
    "print(dic_tols(data))\n"
   ]
  },
  {
   "cell_type": "code",
   "execution_count": null,
   "metadata": {},
   "outputs": [],
   "source": []
  }
 ],
 "metadata": {
  "kernelspec": {
   "display_name": "Python 3 (ipykernel)",
   "language": "python",
   "name": "python3"
  },
  "language_info": {
   "codemirror_mode": {
    "name": "ipython",
    "version": 3
   },
   "file_extension": ".py",
   "mimetype": "text/x-python",
   "name": "python",
   "nbconvert_exporter": "python",
   "pygments_lexer": "ipython3",
   "version": "3.9.12"
  },
  "vscode": {
   "interpreter": {
    "hash": "916dbcbb3f70747c44a77c7bcd40155683ae19c65e1c03b4aa3499c5328201f1"
   }
  }
 },
 "nbformat": 4,
 "nbformat_minor": 2
}
