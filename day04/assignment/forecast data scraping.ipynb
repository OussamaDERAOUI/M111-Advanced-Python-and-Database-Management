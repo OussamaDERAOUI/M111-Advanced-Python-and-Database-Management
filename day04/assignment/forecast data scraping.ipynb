{
 "cells": [
  {
   "cell_type": "markdown",
   "id": "3bf3292a",
   "metadata": {},
   "source": [
    "### Exercice:\n",
    "\n",
    "Scraping weather forecase from the The Weather Channel website `weather.com` using `requests` and `BeautifulSoup` libraries.\n",
    "\n",
    "1. Implement a scraping script for getting 10 days weather forecasts of Benguerir city and Tanger City.\n",
    "2. Store the data sets into Pandas DataFrame.\n",
    "3. Use matplotlib library to plot the raining days of the two cities in the same figure.  \n"
   ]
  },
  {
   "cell_type": "code",
   "execution_count": 399,
   "id": "e2008bdb",
   "metadata": {},
   "outputs": [],
   "source": [
    "import requests\n",
    "page_1 = requests.get(\"https://weather.com/weather/tenday/l/f37580e42d804f6d54467e56dd9f296e15fe9a25db53ddee63601416ecc06111\")\n",
    "page_2 = requests.get(\"https://weather.com/weather/tenday/l/701d5f2dd2a2b8cabcc505d69649a291257de6c1369a982396ea546ccb99198c\")"
   ]
  },
  {
   "cell_type": "code",
   "execution_count": 400,
   "id": "b6bde052",
   "metadata": {},
   "outputs": [],
   "source": [
    "from bs4 import BeautifulSoup\n",
    "soup_1 = BeautifulSoup(page_1.content, 'html.parser')\n",
    "soup_2 = BeautifulSoup(page_2.content, 'html.parser')"
   ]
  },
  {
   "cell_type": "code",
   "execution_count": 401,
   "id": "7cd4d16e",
   "metadata": {},
   "outputs": [
    {
     "name": "stdout",
     "output_type": "stream",
     "text": [
      "[['Sat 17', '65°', '46°', 'Partly Cloudy', 'E 8 mph', '15%'], ['Sun 18', '71°', '46°', 'Partly Cloudy', 'ESE 7 mph', '15%'], ['Mon 19', '73°', '45°', 'Mostly Sunny', 'E 7 mph', '15%'], ['Tue 20', '73°', '45°', 'Partly Cloudy', 'SSW 8 mph', '8%'], ['Wed 21', '71°', '44°', 'Mostly Sunny', 'ENE 8 mph', '8%'], ['Thu 22', '70°', '43°', 'Sunny', 'ENE 8 mph', '7%'], ['Fri 23', '71°', '43°', 'Sunny', 'SSW 8 mph', '7%'], ['Sat 24', '70°', '44°', 'Mostly Sunny', 'S 8 mph', '7%'], ['Sun 25', '69°', '46°', 'Partly Cloudy', 'S 9 mph', '7%'], ['Mon 26', '67°', '47°', 'Partly Cloudy', 'SSW 13 mph', '10%']]\n"
     ]
    }
   ],
   "source": [
    "#Web scraping for Benguerrir city\n",
    "\n",
    "#we loop for 10 so we get the data of 10 days\n",
    "\n",
    "#we extract data by accessing trough class names and IDs and using get_text()\n",
    "array_1=[]\n",
    "for i in range(1,11) :\n",
    "        array_1.append([soup_1.find_all(attrs={\"data-testid\" : \"daypartName\"})[i].get_text(),\n",
    "        soup_1.find_all(attrs={\"class\" : \"DetailsSummary--highTempValue--3PjlX\",\"data-testid\" : \"TemperatureValue\"})[i].get_text(),\n",
    "        soup_1.find_all(attrs={\"class\" : \"DetailsSummary--lowTempValue--2tesQ\",\"data-testid\" : \"TemperatureValue\"})[i].get_text(),\n",
    "        soup_1.find_all(attrs={\"class\" : \"DetailsSummary--extendedData--307Ax\"})[2*i].get_text(),\n",
    "        soup_1.find_all(attrs={\"class\" : \"Wind--windWrapper--3Ly7c undefined\",\"data-testid\" : \"Wind\"})[i].get_text(),\n",
    "        soup_1.find_all(attrs={\"class\" : \"DailyContent--value--1Jers\",\"data-testid\" : \"PercentageValue\"})[i].get_text()])\n",
    "print(array_1)\n",
    "#each array has date high low overall wind and rain data "
   ]
  },
  {
   "cell_type": "code",
   "execution_count": 402,
   "id": "a70235a9",
   "metadata": {},
   "outputs": [
    {
     "name": "stdout",
     "output_type": "stream",
     "text": [
      "[['Sat 17', '65°', '53°', 'Showers', 'SW 6 mph', '77%'], ['Sun 18', '68°', '58°', 'Partly Cloudy', 'E 14 mph', '14%'], ['Mon 19', '69°', '57°', 'Partly Cloudy', 'E 11 mph', '14%'], ['Tue 20', '70°', '59°', 'PM Showers', 'SE 8 mph', '12%'], ['Wed 21', '67°', '55°', 'AM Showers', 'SW 6 mph', '12%'], ['Thu 22', '66°', '54°', 'AM Fog/PM Sun', 'NNE 5 mph', '12%'], ['Fri 23', '66°', '54°', 'Sunny', 'S 5 mph', '40%'], ['Sat 24', '66°', '55°', 'Partly Cloudy', 'S 6 mph', '77%'], ['Sun 25', '67°', '56°', 'Partly Cloudy', 'SE 9 mph', '47%'], ['Mon 26', '65°', '57°', 'Showers', 'SE 13 mph', '15%']]\n"
     ]
    }
   ],
   "source": [
    "#Web scraping for Tangier city\n",
    "array_2=[]\n",
    "for i in range(1,11) :\n",
    "        array_2.append([soup_2.find_all(attrs={\"data-testid\" : \"daypartName\"})[i].get_text(),\n",
    "        soup_2.find_all(attrs={\"class\" : \"DetailsSummary--highTempValue--3PjlX\",\"data-testid\" : \"TemperatureValue\"})[i].get_text(),\n",
    "        soup_2.find_all(attrs={\"class\" : \"DetailsSummary--lowTempValue--2tesQ\",\"data-testid\" : \"TemperatureValue\"})[i].get_text(),\n",
    "        soup_2.find_all(attrs={\"class\" : \"DetailsSummary--extendedData--307Ax\"})[2*i].get_text(),\n",
    "        soup_2.find_all(attrs={\"class\" : \"Wind--windWrapper--3Ly7c undefined\",\"data-testid\" : \"Wind\"})[i].get_text(),\n",
    "        soup_2.find_all(attrs={\"class\" : \"DailyContent--value--1Jers\",\"data-testid\" : \"PercentageValue\"})[i].get_text()])\n",
    "\n",
    "print(array_2)"
   ]
  },
  {
   "cell_type": "code",
   "execution_count": 403,
   "id": "10d17300",
   "metadata": {},
   "outputs": [
    {
     "data": {
      "text/html": [
       "<div>\n",
       "<style scoped>\n",
       "    .dataframe tbody tr th:only-of-type {\n",
       "        vertical-align: middle;\n",
       "    }\n",
       "\n",
       "    .dataframe tbody tr th {\n",
       "        vertical-align: top;\n",
       "    }\n",
       "\n",
       "    .dataframe thead th {\n",
       "        text-align: right;\n",
       "    }\n",
       "</style>\n",
       "<table border=\"1\" class=\"dataframe\">\n",
       "  <thead>\n",
       "    <tr style=\"text-align: right;\">\n",
       "      <th></th>\n",
       "      <th>Date</th>\n",
       "      <th>High</th>\n",
       "      <th>Low</th>\n",
       "      <th>Overall</th>\n",
       "      <th>Wind</th>\n",
       "      <th>Rain</th>\n",
       "    </tr>\n",
       "  </thead>\n",
       "  <tbody>\n",
       "    <tr>\n",
       "      <th>0</th>\n",
       "      <td>Sat 17</td>\n",
       "      <td>65°</td>\n",
       "      <td>46°</td>\n",
       "      <td>Partly Cloudy</td>\n",
       "      <td>E 8 mph</td>\n",
       "      <td>15%</td>\n",
       "    </tr>\n",
       "    <tr>\n",
       "      <th>1</th>\n",
       "      <td>Sun 18</td>\n",
       "      <td>71°</td>\n",
       "      <td>46°</td>\n",
       "      <td>Partly Cloudy</td>\n",
       "      <td>ESE 7 mph</td>\n",
       "      <td>15%</td>\n",
       "    </tr>\n",
       "    <tr>\n",
       "      <th>2</th>\n",
       "      <td>Mon 19</td>\n",
       "      <td>73°</td>\n",
       "      <td>45°</td>\n",
       "      <td>Mostly Sunny</td>\n",
       "      <td>E 7 mph</td>\n",
       "      <td>15%</td>\n",
       "    </tr>\n",
       "    <tr>\n",
       "      <th>3</th>\n",
       "      <td>Tue 20</td>\n",
       "      <td>73°</td>\n",
       "      <td>45°</td>\n",
       "      <td>Partly Cloudy</td>\n",
       "      <td>SSW 8 mph</td>\n",
       "      <td>8%</td>\n",
       "    </tr>\n",
       "    <tr>\n",
       "      <th>4</th>\n",
       "      <td>Wed 21</td>\n",
       "      <td>71°</td>\n",
       "      <td>44°</td>\n",
       "      <td>Mostly Sunny</td>\n",
       "      <td>ENE 8 mph</td>\n",
       "      <td>8%</td>\n",
       "    </tr>\n",
       "    <tr>\n",
       "      <th>5</th>\n",
       "      <td>Thu 22</td>\n",
       "      <td>70°</td>\n",
       "      <td>43°</td>\n",
       "      <td>Sunny</td>\n",
       "      <td>ENE 8 mph</td>\n",
       "      <td>7%</td>\n",
       "    </tr>\n",
       "    <tr>\n",
       "      <th>6</th>\n",
       "      <td>Fri 23</td>\n",
       "      <td>71°</td>\n",
       "      <td>43°</td>\n",
       "      <td>Sunny</td>\n",
       "      <td>SSW 8 mph</td>\n",
       "      <td>7%</td>\n",
       "    </tr>\n",
       "    <tr>\n",
       "      <th>7</th>\n",
       "      <td>Sat 24</td>\n",
       "      <td>70°</td>\n",
       "      <td>44°</td>\n",
       "      <td>Mostly Sunny</td>\n",
       "      <td>S 8 mph</td>\n",
       "      <td>7%</td>\n",
       "    </tr>\n",
       "    <tr>\n",
       "      <th>8</th>\n",
       "      <td>Sun 25</td>\n",
       "      <td>69°</td>\n",
       "      <td>46°</td>\n",
       "      <td>Partly Cloudy</td>\n",
       "      <td>S 9 mph</td>\n",
       "      <td>7%</td>\n",
       "    </tr>\n",
       "    <tr>\n",
       "      <th>9</th>\n",
       "      <td>Mon 26</td>\n",
       "      <td>67°</td>\n",
       "      <td>47°</td>\n",
       "      <td>Partly Cloudy</td>\n",
       "      <td>SSW 13 mph</td>\n",
       "      <td>10%</td>\n",
       "    </tr>\n",
       "  </tbody>\n",
       "</table>\n",
       "</div>"
      ],
      "text/plain": [
       "     Date High  Low        Overall        Wind Rain\n",
       "0  Sat 17  65°  46°  Partly Cloudy     E 8 mph  15%\n",
       "1  Sun 18  71°  46°  Partly Cloudy   ESE 7 mph  15%\n",
       "2  Mon 19  73°  45°   Mostly Sunny     E 7 mph  15%\n",
       "3  Tue 20  73°  45°  Partly Cloudy   SSW 8 mph   8%\n",
       "4  Wed 21  71°  44°   Mostly Sunny   ENE 8 mph   8%\n",
       "5  Thu 22  70°  43°          Sunny   ENE 8 mph   7%\n",
       "6  Fri 23  71°  43°          Sunny   SSW 8 mph   7%\n",
       "7  Sat 24  70°  44°   Mostly Sunny     S 8 mph   7%\n",
       "8  Sun 25  69°  46°  Partly Cloudy     S 9 mph   7%\n",
       "9  Mon 26  67°  47°  Partly Cloudy  SSW 13 mph  10%"
      ]
     },
     "execution_count": 403,
     "metadata": {},
     "output_type": "execute_result"
    }
   ],
   "source": [
    "#storing Benguerrir city data into dataframes \n",
    "import pandas as pd\n",
    "data_1 = pd.DataFrame(array_1, columns=[\"Date\",\"High\",\"Low\",\"Overall\",\"Wind\",\"Rain\"])\n",
    "data_1"
   ]
  },
  {
   "cell_type": "code",
   "execution_count": 404,
   "id": "72145f4a",
   "metadata": {},
   "outputs": [
    {
     "data": {
      "text/html": [
       "<div>\n",
       "<style scoped>\n",
       "    .dataframe tbody tr th:only-of-type {\n",
       "        vertical-align: middle;\n",
       "    }\n",
       "\n",
       "    .dataframe tbody tr th {\n",
       "        vertical-align: top;\n",
       "    }\n",
       "\n",
       "    .dataframe thead th {\n",
       "        text-align: right;\n",
       "    }\n",
       "</style>\n",
       "<table border=\"1\" class=\"dataframe\">\n",
       "  <thead>\n",
       "    <tr style=\"text-align: right;\">\n",
       "      <th></th>\n",
       "      <th>Date</th>\n",
       "      <th>High</th>\n",
       "      <th>Low</th>\n",
       "      <th>Overall</th>\n",
       "      <th>Wind</th>\n",
       "      <th>Rain</th>\n",
       "    </tr>\n",
       "  </thead>\n",
       "  <tbody>\n",
       "    <tr>\n",
       "      <th>0</th>\n",
       "      <td>Sat 17</td>\n",
       "      <td>65°</td>\n",
       "      <td>53°</td>\n",
       "      <td>Showers</td>\n",
       "      <td>SW 6 mph</td>\n",
       "      <td>77%</td>\n",
       "    </tr>\n",
       "    <tr>\n",
       "      <th>1</th>\n",
       "      <td>Sun 18</td>\n",
       "      <td>68°</td>\n",
       "      <td>58°</td>\n",
       "      <td>Partly Cloudy</td>\n",
       "      <td>E 14 mph</td>\n",
       "      <td>14%</td>\n",
       "    </tr>\n",
       "    <tr>\n",
       "      <th>2</th>\n",
       "      <td>Mon 19</td>\n",
       "      <td>69°</td>\n",
       "      <td>57°</td>\n",
       "      <td>Partly Cloudy</td>\n",
       "      <td>E 11 mph</td>\n",
       "      <td>14%</td>\n",
       "    </tr>\n",
       "    <tr>\n",
       "      <th>3</th>\n",
       "      <td>Tue 20</td>\n",
       "      <td>70°</td>\n",
       "      <td>59°</td>\n",
       "      <td>PM Showers</td>\n",
       "      <td>SE 8 mph</td>\n",
       "      <td>12%</td>\n",
       "    </tr>\n",
       "    <tr>\n",
       "      <th>4</th>\n",
       "      <td>Wed 21</td>\n",
       "      <td>67°</td>\n",
       "      <td>55°</td>\n",
       "      <td>AM Showers</td>\n",
       "      <td>SW 6 mph</td>\n",
       "      <td>12%</td>\n",
       "    </tr>\n",
       "    <tr>\n",
       "      <th>5</th>\n",
       "      <td>Thu 22</td>\n",
       "      <td>66°</td>\n",
       "      <td>54°</td>\n",
       "      <td>AM Fog/PM Sun</td>\n",
       "      <td>NNE 5 mph</td>\n",
       "      <td>12%</td>\n",
       "    </tr>\n",
       "    <tr>\n",
       "      <th>6</th>\n",
       "      <td>Fri 23</td>\n",
       "      <td>66°</td>\n",
       "      <td>54°</td>\n",
       "      <td>Sunny</td>\n",
       "      <td>S 5 mph</td>\n",
       "      <td>40%</td>\n",
       "    </tr>\n",
       "    <tr>\n",
       "      <th>7</th>\n",
       "      <td>Sat 24</td>\n",
       "      <td>66°</td>\n",
       "      <td>55°</td>\n",
       "      <td>Partly Cloudy</td>\n",
       "      <td>S 6 mph</td>\n",
       "      <td>77%</td>\n",
       "    </tr>\n",
       "    <tr>\n",
       "      <th>8</th>\n",
       "      <td>Sun 25</td>\n",
       "      <td>67°</td>\n",
       "      <td>56°</td>\n",
       "      <td>Partly Cloudy</td>\n",
       "      <td>SE 9 mph</td>\n",
       "      <td>47%</td>\n",
       "    </tr>\n",
       "    <tr>\n",
       "      <th>9</th>\n",
       "      <td>Mon 26</td>\n",
       "      <td>65°</td>\n",
       "      <td>57°</td>\n",
       "      <td>Showers</td>\n",
       "      <td>SE 13 mph</td>\n",
       "      <td>15%</td>\n",
       "    </tr>\n",
       "  </tbody>\n",
       "</table>\n",
       "</div>"
      ],
      "text/plain": [
       "     Date High  Low        Overall       Wind Rain\n",
       "0  Sat 17  65°  53°        Showers   SW 6 mph  77%\n",
       "1  Sun 18  68°  58°  Partly Cloudy   E 14 mph  14%\n",
       "2  Mon 19  69°  57°  Partly Cloudy   E 11 mph  14%\n",
       "3  Tue 20  70°  59°     PM Showers   SE 8 mph  12%\n",
       "4  Wed 21  67°  55°     AM Showers   SW 6 mph  12%\n",
       "5  Thu 22  66°  54°  AM Fog/PM Sun  NNE 5 mph  12%\n",
       "6  Fri 23  66°  54°          Sunny    S 5 mph  40%\n",
       "7  Sat 24  66°  55°  Partly Cloudy    S 6 mph  77%\n",
       "8  Sun 25  67°  56°  Partly Cloudy   SE 9 mph  47%\n",
       "9  Mon 26  65°  57°        Showers  SE 13 mph  15%"
      ]
     },
     "execution_count": 404,
     "metadata": {},
     "output_type": "execute_result"
    }
   ],
   "source": [
    "#storing Tangier city data into dataframes \n",
    "import pandas as pd\n",
    "data_2 = pd.DataFrame(array_2, columns=[\"Date\",\"High\",\"Low\",\"Overall\",\"Wind\",\"Rain\"])\n",
    "data_2"
   ]
  },
  {
   "cell_type": "code",
   "execution_count": 405,
   "id": "d1e47251",
   "metadata": {},
   "outputs": [],
   "source": [
    "def convert(s):\n",
    "    str1 = \"\"\n",
    "    return(str1.join(s))\n",
    "def toint(Rain):\n",
    "    for i in range(10):\n",
    "        Rain[i] = list(Rain[i])[0:-1]\n",
    "        Rain[i] = convert(Rain[i])\n",
    "        Rain[i] = int(Rain[i])\n",
    "    return Rain\n",
    "\n",
    "#we used these two functions to convert text values of the column Rain to int values so we can plot them later \n"
   ]
  },
  {
   "cell_type": "code",
   "execution_count": 406,
   "id": "02d4ff1c",
   "metadata": {},
   "outputs": [],
   "source": [
    "import matplotlib.pyplot as plt\n",
    "\n",
    "Rain_1 = data_1[\"Rain\"]\n",
    "Rain_2 = data_2[\"Rain\"]\n",
    "\n",
    "R1 = toint(Rain_1)\n",
    "R2 = toint(Rain_2)\n"
   ]
  },
  {
   "cell_type": "code",
   "execution_count": 407,
   "id": "22a7aae2",
   "metadata": {},
   "outputs": [
    {
     "data": {
      "text/plain": [
       "0    15\n",
       "1    15\n",
       "2    15\n",
       "3     8\n",
       "4     8\n",
       "5     7\n",
       "6     7\n",
       "7     7\n",
       "8     7\n",
       "9    10\n",
       "Name: Rain, dtype: object"
      ]
     },
     "execution_count": 407,
     "metadata": {},
     "output_type": "execute_result"
    }
   ],
   "source": [
    "R1"
   ]
  },
  {
   "cell_type": "code",
   "execution_count": 408,
   "id": "f2ce1233",
   "metadata": {},
   "outputs": [
    {
     "data": {
      "text/plain": [
       "0    77\n",
       "1    14\n",
       "2    14\n",
       "3    12\n",
       "4    12\n",
       "5    12\n",
       "6    40\n",
       "7    77\n",
       "8    47\n",
       "9    15\n",
       "Name: Rain, dtype: object"
      ]
     },
     "execution_count": 408,
     "metadata": {},
     "output_type": "execute_result"
    }
   ],
   "source": [
    "R2"
   ]
  },
  {
   "cell_type": "code",
   "execution_count": 409,
   "id": "f13ba75a",
   "metadata": {},
   "outputs": [
    {
     "data": {
      "image/png": "[encoded data removed]",
      "text/plain": [
       "<Figure size 432x288 with 1 Axes>"
      ]
     },
     "metadata": {
      "needs_background": "light"
     },
     "output_type": "display_data"
    }
   ],
   "source": [
    "#ploting\n",
    "plt.plot(data_1[\"Date\"],R1,marker = 'o',label=\"Benguerrir\")\n",
    "plt.plot(data_1[\"Date\"],R2,marker = 'o',label=\"Tangier\")\n",
    "plt.legend()\n",
    "plt.show()"
   ]
  },
  {
   "cell_type": "code",
   "execution_count": null,
   "id": "ade6a399",
   "metadata": {},
   "outputs": [],
   "source": []
  },
  {
   "cell_type": "code",
   "execution_count": null,
   "id": "2e86eea4",
   "metadata": {},
   "outputs": [],
   "source": []
  }
 ],
 "metadata": {
  "kernelspec": {
   "display_name": "Python 3 (ipykernel)",
   "language": "python",
   "name": "python3"
  },
  "language_info": {
   "codemirror_mode": {
    "name": "ipython",
    "version": 3
   },
   "file_extension": ".py",
   "mimetype": "text/x-python",
   "name": "python",
   "nbconvert_exporter": "python",
   "pygments_lexer": "ipython3",
   "version": "3.9.12"
  }
 },
 "nbformat": 4,
 "nbformat_minor": 5
}
